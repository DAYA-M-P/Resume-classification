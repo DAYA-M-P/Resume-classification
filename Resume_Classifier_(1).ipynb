{
  "cells": [
    {
      "cell_type": "code",
      "execution_count": null,
      "id": "4288061d-5f68-4ebd-b368-bda2061ab21c",
      "metadata": {
        "id": "4288061d-5f68-4ebd-b368-bda2061ab21c"
      },
      "outputs": [],
      "source": [
        "import numpy as np\n",
        "import pandas as pd\n",
        "import matplotlib.pyplot as plt\n",
        "import seaborn as sns"
      ]
    },
    {
      "cell_type": "code",
      "execution_count": null,
      "id": "c42b9be0-fcae-46a3-872d-5ffa688915c8",
      "metadata": {
        "colab": {
          "base_uri": "https://localhost:8080/",
          "height": 363
        },
        "id": "c42b9be0-fcae-46a3-872d-5ffa688915c8",
        "outputId": "19449f24-2993-4194-a897-62ee09a8a74e"
      },
      "outputs": [
        {
          "output_type": "execute_result",
          "data": {
            "text/plain": [
              "       Category                                             Resume\n",
              "0  Data Science  Skills * Programming Languages: Python (pandas...\n",
              "1  Data Science  Education Details \\nMay 2013 to May 2017 B.E  ...\n",
              "2  Data Science  Areas of Interest Deep Learning, Control Syste...\n",
              "3  Data Science  Skills â?¢ R â?¢ Python â?¢ SAP HANA â?¢ Table...\n",
              "4  Data Science  Education Details \\n MCA   YMCAUST,  Faridabad...\n",
              "5  Data Science  SKILLS C Basics, IOT, Python, MATLAB, Data Sci...\n",
              "6  Data Science  Skills â?¢ Python â?¢ Tableau â?¢ Data Visuali...\n",
              "7  Data Science  Education Details \\n B.Tech   Rayat and Bahra ...\n",
              "8  Data Science  Personal Skills â?¢ Ability to quickly grasp t...\n",
              "9  Data Science  Expertise â?? Data and Quantitative Analysis â..."
            ],
            "text/html": [
              "\n",
              "  <div id=\"df-3c45a278-2175-4020-a459-1bf32422a6ca\" class=\"colab-df-container\">\n",
              "    <div>\n",
              "<style scoped>\n",
              "    .dataframe tbody tr th:only-of-type {\n",
              "        vertical-align: middle;\n",
              "    }\n",
              "\n",
              "    .dataframe tbody tr th {\n",
              "        vertical-align: top;\n",
              "    }\n",
              "\n",
              "    .dataframe thead th {\n",
              "        text-align: right;\n",
              "    }\n",
              "</style>\n",
              "<table border=\"1\" class=\"dataframe\">\n",
              "  <thead>\n",
              "    <tr style=\"text-align: right;\">\n",
              "      <th></th>\n",
              "      <th>Category</th>\n",
              "      <th>Resume</th>\n",
              "    </tr>\n",
              "  </thead>\n",
              "  <tbody>\n",
              "    <tr>\n",
              "      <th>0</th>\n",
              "      <td>Data Science</td>\n",
              "      <td>Skills * Programming Languages: Python (pandas...</td>\n",
              "    </tr>\n",
              "    <tr>\n",
              "      <th>1</th>\n",
              "      <td>Data Science</td>\n",
              "      <td>Education Details \\nMay 2013 to May 2017 B.E  ...</td>\n",
              "    </tr>\n",
              "    <tr>\n",
              "      <th>2</th>\n",
              "      <td>Data Science</td>\n",
              "      <td>Areas of Interest Deep Learning, Control Syste...</td>\n",
              "    </tr>\n",
              "    <tr>\n",
              "      <th>3</th>\n",
              "      <td>Data Science</td>\n",
              "      <td>Skills â?¢ R â?¢ Python â?¢ SAP HANA â?¢ Table...</td>\n",
              "    </tr>\n",
              "    <tr>\n",
              "      <th>4</th>\n",
              "      <td>Data Science</td>\n",
              "      <td>Education Details \\n MCA   YMCAUST,  Faridabad...</td>\n",
              "    </tr>\n",
              "    <tr>\n",
              "      <th>5</th>\n",
              "      <td>Data Science</td>\n",
              "      <td>SKILLS C Basics, IOT, Python, MATLAB, Data Sci...</td>\n",
              "    </tr>\n",
              "    <tr>\n",
              "      <th>6</th>\n",
              "      <td>Data Science</td>\n",
              "      <td>Skills â?¢ Python â?¢ Tableau â?¢ Data Visuali...</td>\n",
              "    </tr>\n",
              "    <tr>\n",
              "      <th>7</th>\n",
              "      <td>Data Science</td>\n",
              "      <td>Education Details \\n B.Tech   Rayat and Bahra ...</td>\n",
              "    </tr>\n",
              "    <tr>\n",
              "      <th>8</th>\n",
              "      <td>Data Science</td>\n",
              "      <td>Personal Skills â?¢ Ability to quickly grasp t...</td>\n",
              "    </tr>\n",
              "    <tr>\n",
              "      <th>9</th>\n",
              "      <td>Data Science</td>\n",
              "      <td>Expertise â?? Data and Quantitative Analysis â...</td>\n",
              "    </tr>\n",
              "  </tbody>\n",
              "</table>\n",
              "</div>\n",
              "    <div class=\"colab-df-buttons\">\n",
              "\n",
              "  <div class=\"colab-df-container\">\n",
              "    <button class=\"colab-df-convert\" onclick=\"convertToInteractive('df-3c45a278-2175-4020-a459-1bf32422a6ca')\"\n",
              "            title=\"Convert this dataframe to an interactive table.\"\n",
              "            style=\"display:none;\">\n",
              "\n",
              "  <svg xmlns=\"http://www.w3.org/2000/svg\" height=\"24px\" viewBox=\"0 -960 960 960\">\n",
              "    <path d=\"M120-120v-720h720v720H120Zm60-500h600v-160H180v160Zm220 220h160v-160H400v160Zm0 220h160v-160H400v160ZM180-400h160v-160H180v160Zm440 0h160v-160H620v160ZM180-180h160v-160H180v160Zm440 0h160v-160H620v160Z\"/>\n",
              "  </svg>\n",
              "    </button>\n",
              "\n",
              "  <style>\n",
              "    .colab-df-container {\n",
              "      display:flex;\n",
              "      gap: 12px;\n",
              "    }\n",
              "\n",
              "    .colab-df-convert {\n",
              "      background-color: #E8F0FE;\n",
              "      border: none;\n",
              "      border-radius: 50%;\n",
              "      cursor: pointer;\n",
              "      display: none;\n",
              "      fill: #1967D2;\n",
              "      height: 32px;\n",
              "      padding: 0 0 0 0;\n",
              "      width: 32px;\n",
              "    }\n",
              "\n",
              "    .colab-df-convert:hover {\n",
              "      background-color: #E2EBFA;\n",
              "      box-shadow: 0px 1px 2px rgba(60, 64, 67, 0.3), 0px 1px 3px 1px rgba(60, 64, 67, 0.15);\n",
              "      fill: #174EA6;\n",
              "    }\n",
              "\n",
              "    .colab-df-buttons div {\n",
              "      margin-bottom: 4px;\n",
              "    }\n",
              "\n",
              "    [theme=dark] .colab-df-convert {\n",
              "      background-color: #3B4455;\n",
              "      fill: #D2E3FC;\n",
              "    }\n",
              "\n",
              "    [theme=dark] .colab-df-convert:hover {\n",
              "      background-color: #434B5C;\n",
              "      box-shadow: 0px 1px 3px 1px rgba(0, 0, 0, 0.15);\n",
              "      filter: drop-shadow(0px 1px 2px rgba(0, 0, 0, 0.3));\n",
              "      fill: #FFFFFF;\n",
              "    }\n",
              "  </style>\n",
              "\n",
              "    <script>\n",
              "      const buttonEl =\n",
              "        document.querySelector('#df-3c45a278-2175-4020-a459-1bf32422a6ca button.colab-df-convert');\n",
              "      buttonEl.style.display =\n",
              "        google.colab.kernel.accessAllowed ? 'block' : 'none';\n",
              "\n",
              "      async function convertToInteractive(key) {\n",
              "        const element = document.querySelector('#df-3c45a278-2175-4020-a459-1bf32422a6ca');\n",
              "        const dataTable =\n",
              "          await google.colab.kernel.invokeFunction('convertToInteractive',\n",
              "                                                    [key], {});\n",
              "        if (!dataTable) return;\n",
              "\n",
              "        const docLinkHtml = 'Like what you see? Visit the ' +\n",
              "          '<a target=\"_blank\" href=https://colab.research.google.com/notebooks/data_table.ipynb>data table notebook</a>'\n",
              "          + ' to learn more about interactive tables.';\n",
              "        element.innerHTML = '';\n",
              "        dataTable['output_type'] = 'display_data';\n",
              "        await google.colab.output.renderOutput(dataTable, element);\n",
              "        const docLink = document.createElement('div');\n",
              "        docLink.innerHTML = docLinkHtml;\n",
              "        element.appendChild(docLink);\n",
              "      }\n",
              "    </script>\n",
              "  </div>\n",
              "\n",
              "\n",
              "    <div id=\"df-d484b582-f3a4-4ec8-9590-becd8e0b114a\">\n",
              "      <button class=\"colab-df-quickchart\" onclick=\"quickchart('df-d484b582-f3a4-4ec8-9590-becd8e0b114a')\"\n",
              "                title=\"Suggest charts\"\n",
              "                style=\"display:none;\">\n",
              "\n",
              "<svg xmlns=\"http://www.w3.org/2000/svg\" height=\"24px\"viewBox=\"0 0 24 24\"\n",
              "     width=\"24px\">\n",
              "    <g>\n",
              "        <path d=\"M19 3H5c-1.1 0-2 .9-2 2v14c0 1.1.9 2 2 2h14c1.1 0 2-.9 2-2V5c0-1.1-.9-2-2-2zM9 17H7v-7h2v7zm4 0h-2V7h2v10zm4 0h-2v-4h2v4z\"/>\n",
              "    </g>\n",
              "</svg>\n",
              "      </button>\n",
              "\n",
              "<style>\n",
              "  .colab-df-quickchart {\n",
              "      --bg-color: #E8F0FE;\n",
              "      --fill-color: #1967D2;\n",
              "      --hover-bg-color: #E2EBFA;\n",
              "      --hover-fill-color: #174EA6;\n",
              "      --disabled-fill-color: #AAA;\n",
              "      --disabled-bg-color: #DDD;\n",
              "  }\n",
              "\n",
              "  [theme=dark] .colab-df-quickchart {\n",
              "      --bg-color: #3B4455;\n",
              "      --fill-color: #D2E3FC;\n",
              "      --hover-bg-color: #434B5C;\n",
              "      --hover-fill-color: #FFFFFF;\n",
              "      --disabled-bg-color: #3B4455;\n",
              "      --disabled-fill-color: #666;\n",
              "  }\n",
              "\n",
              "  .colab-df-quickchart {\n",
              "    background-color: var(--bg-color);\n",
              "    border: none;\n",
              "    border-radius: 50%;\n",
              "    cursor: pointer;\n",
              "    display: none;\n",
              "    fill: var(--fill-color);\n",
              "    height: 32px;\n",
              "    padding: 0;\n",
              "    width: 32px;\n",
              "  }\n",
              "\n",
              "  .colab-df-quickchart:hover {\n",
              "    background-color: var(--hover-bg-color);\n",
              "    box-shadow: 0 1px 2px rgba(60, 64, 67, 0.3), 0 1px 3px 1px rgba(60, 64, 67, 0.15);\n",
              "    fill: var(--button-hover-fill-color);\n",
              "  }\n",
              "\n",
              "  .colab-df-quickchart-complete:disabled,\n",
              "  .colab-df-quickchart-complete:disabled:hover {\n",
              "    background-color: var(--disabled-bg-color);\n",
              "    fill: var(--disabled-fill-color);\n",
              "    box-shadow: none;\n",
              "  }\n",
              "\n",
              "  .colab-df-spinner {\n",
              "    border: 2px solid var(--fill-color);\n",
              "    border-color: transparent;\n",
              "    border-bottom-color: var(--fill-color);\n",
              "    animation:\n",
              "      spin 1s steps(1) infinite;\n",
              "  }\n",
              "\n",
              "  @keyframes spin {\n",
              "    0% {\n",
              "      border-color: transparent;\n",
              "      border-bottom-color: var(--fill-color);\n",
              "      border-left-color: var(--fill-color);\n",
              "    }\n",
              "    20% {\n",
              "      border-color: transparent;\n",
              "      border-left-color: var(--fill-color);\n",
              "      border-top-color: var(--fill-color);\n",
              "    }\n",
              "    30% {\n",
              "      border-color: transparent;\n",
              "      border-left-color: var(--fill-color);\n",
              "      border-top-color: var(--fill-color);\n",
              "      border-right-color: var(--fill-color);\n",
              "    }\n",
              "    40% {\n",
              "      border-color: transparent;\n",
              "      border-right-color: var(--fill-color);\n",
              "      border-top-color: var(--fill-color);\n",
              "    }\n",
              "    60% {\n",
              "      border-color: transparent;\n",
              "      border-right-color: var(--fill-color);\n",
              "    }\n",
              "    80% {\n",
              "      border-color: transparent;\n",
              "      border-right-color: var(--fill-color);\n",
              "      border-bottom-color: var(--fill-color);\n",
              "    }\n",
              "    90% {\n",
              "      border-color: transparent;\n",
              "      border-bottom-color: var(--fill-color);\n",
              "    }\n",
              "  }\n",
              "</style>\n",
              "\n",
              "      <script>\n",
              "        async function quickchart(key) {\n",
              "          const quickchartButtonEl =\n",
              "            document.querySelector('#' + key + ' button');\n",
              "          quickchartButtonEl.disabled = true;  // To prevent multiple clicks.\n",
              "          quickchartButtonEl.classList.add('colab-df-spinner');\n",
              "          try {\n",
              "            const charts = await google.colab.kernel.invokeFunction(\n",
              "                'suggestCharts', [key], {});\n",
              "          } catch (error) {\n",
              "            console.error('Error during call to suggestCharts:', error);\n",
              "          }\n",
              "          quickchartButtonEl.classList.remove('colab-df-spinner');\n",
              "          quickchartButtonEl.classList.add('colab-df-quickchart-complete');\n",
              "        }\n",
              "        (() => {\n",
              "          let quickchartButtonEl =\n",
              "            document.querySelector('#df-d484b582-f3a4-4ec8-9590-becd8e0b114a button');\n",
              "          quickchartButtonEl.style.display =\n",
              "            google.colab.kernel.accessAllowed ? 'block' : 'none';\n",
              "        })();\n",
              "      </script>\n",
              "    </div>\n",
              "\n",
              "    </div>\n",
              "  </div>\n"
            ],
            "application/vnd.google.colaboratory.intrinsic+json": {
              "type": "dataframe",
              "variable_name": "df",
              "summary": "{\n  \"name\": \"df\",\n  \"rows\": 962,\n  \"fields\": [\n    {\n      \"column\": \"Category\",\n      \"properties\": {\n        \"dtype\": \"category\",\n        \"num_unique_values\": 25,\n        \"samples\": [\n          \"Civil Engineer\",\n          \"DevOps Engineer\",\n          \"Data Science\"\n        ],\n        \"semantic_type\": \"\",\n        \"description\": \"\"\n      }\n    },\n    {\n      \"column\": \"Resume\",\n      \"properties\": {\n        \"dtype\": \"category\",\n        \"num_unique_values\": 166,\n        \"samples\": [\n          \"KEY COMPETENCIES \\u00e2?\\u00b6Multi - Operations Management\\u00e2?\\u00b6People Management \\u00e2?\\u00b6Customer Services - Emails \\u00e2?\\u00b6 MIS \\u00e2?\\u00b6Vendor & Client Services Management\\u00e2?\\u00b6Cross Functional Coordination\\u00e2?\\u00b6Banking & Financial Services\\u00e2?\\u00b6 Transaction Monitoring * ATM Operations \\u00e2?\\u00b6 & Prepaid Card Operations (Pre-Issuance & Post-Issuance) \\u00e2?\\u00b6 POS Operations * JOB PROFILE & SKILLS: \\u00e2?\\u00a2 An effective communicator with excellent relationship building & interpersonal skills. Strong analytical, problem solving & organizational abilities. \\u00e2?\\u00a2 Extensive experience in managing operations with demonstrated leadership qualities & organisational skills during the tenure. \\u00e2?\\u00a2 Managing customer centric operations & ensuring customer satisfaction by achieving service quality norms. \\u00e2?\\u00a2 Analyzing of all operational problems, customer complaints and take preventive and corrective actions to resolve the same. \\u00e2?\\u00a2 Receive and respond to Key customer inquiries in an effective manner and provide relevant and timely information. \\u00e2?\\u00a2 Deft in steering banking back-end operations, analyzing risks and managing delinquencies with dexterity across applying techniques for maximizing recoveries and minimizing credit losses. \\u00e2?\\u00a2 Analyzed & identified training needs of the team members and developing, organizing and conducting training programs and manage bottom quartile team to improve their performance. \\u00e2?\\u00a2 Preparing and maintaining daily MIS reports to evaluate the performance and efficiency of the process relate to various verticals. \\u00e2?\\u00a2 Measuring the performance of the processes in terms of efficiency and effectiveness matrix and ensuring adherence to SLA. \\u00e2?\\u00a2 Major Activities Define processes for Field Services were monitored and necessary checks were executed and controlled. Also measured Vendor SLA by analyzing the TAT of vendors & the Client SLA provided to us. \\u00e2?\\u00a2 As per company procedures, handling & ensuring vendor's payment issues to be sorted out &payments are processed on quarterly basis. \\u00e2?\\u00a2 Appropriately plan and execute each skill of operations in accordance with the department's policies and procedures. \\u00e2?\\u00a2 Manage relationships with business team, software development team and other services to achieve project objectives. Different software Worked till now: - a. CTL prime - Axis Bank Credit Cards b. Insight - For POS Machine technical operations for Amex (MID & TID Generation- ATOS (Venture Infotek) c. Ticket Management System - TATA Communications Private Services Ltd (ATM - NOC Operations) d. Branch Portal (Yalamanchili Software Exports Ltd) - Prepaid Cards (SBI Bank & Zaggle Prepaid Oceans Services Ltd) Zaggle Prepaid Ocean Services Pvt Ltd Oct, 2017 to Till Date Designation: Manager - Operations (Payment Industry - Prepaid Cards - INR) Education Details \\n  Commerce Mumbai, Maharashtra Mumbai University\\nOperations Manager \\n\\nService Manager - Operations (Payment Industry - Prepaid Cards - INR & FTC)\\nSkill Details \\nOPERATIONS- Exprience - 73 months\\nSATISFACTION- Exprience - 48 months\\nTRAINING- Exprience - 24 months\\nNOC- Exprience - 23 months\\nPOINT OF SALE- Exprience - 20 monthsCompany Details \\ncompany - Zaggle Prepaid Ocean Services Pvt Ltd\\ndescription - Card Operations\\ncompany - Yalamanchili Software Exports Ltd\\ndescription - 24*7 Operations Pvt Ltd) Dec 2015 to Feb 2017\\n\\nDesignation: Service Manager - Operations (Payment Industry - Prepaid Cards - INR & FTC)\\n\\nKey Contributions: \\u00e2?\\u00a2 A result-oriented business professional in planning, executing& managing processes, improving efficiency of operations, team building and detailing process information to determine effective result into operations.\\n\\u00e2?\\u00a2 Ensuring PINs generation (SLA) is maintained and chargeback cases are raised in perfect timeframe.\\n\\u00e2?\\u00a2 Managing email customer services properly and ensuring the emails are replied properly. Also, ensuring transaction monitoring is properly managed 24/7.\\n\\u00e2?\\u00a2 Assisting Bankers (SBI & Associated Banks) for their BCP plans by getting executed in the system with the help of DR-PR plans & vice versa or any other business requirements.\\n\\u00e2?\\u00a2 Expertise in maintaining highest level of quality in operations; ensuring adherence to all the quality parameters and procedures as per the stringent norms.\\n\\u00e2?\\u00a2 Lead, manage and supervise the execution of external audit engagements and responsible for presenting the findings & developing a quality reports to the senior Management and Clients.\\n\\u00e2?\\u00a2 Coach/mentor (20) team members to perform at a higher level by giving opportunities, providing timely continuous feedback and working with staff to improve their communication, time management, decision making, organization, and analytical skills.\\n\\u00e2?\\u00a2 Providing the solutions and services to the client in their own premises with aforesaid count of team members.\\n\\u00e2?\\u00a2 Also ensuring end to end process of PR & DR as per client requirements (PR- DR & DR -PR) by interacting with internal & external stakeholders.\\n\\u00e2?\\u00a2 Determining process gaps and designing & conducting training programs to enhance operational efficiency and retain talent by providing optimum opportunities for personal and professional growth.\\ncompany - Credit Cards\\ndescription - Ensured highest standard of customer satisfaction and quality service; developing new policies and procedures to improve based on customer feedback and resolving customer queries via correspondence, inbound calls & email channels with the strength of (12-16) Team members.\\ncompany - AGS Transact Technologies Limited\\ndescription - Key Contributions: Lead - SPOC to Banks\\ncompany - TATA Communications Payment Solutions Ltd\\ndescription - To make ATMs operational within TAT by analyzing the issue is technical or non-technical and also by interacting with internal & external stakeholders.\\ncompany - Vertex Customer Solutions India Private Ltd\\ndescription - Key Contributions: \\u00e2?\\u00a2 Build positive working relationship with all team members and clients by keeping Management informed   of KYC document collection & con-current audit progress, responding timely to Management inquiries, understanding the business and conducting self professionally.\\ncompany - Financial Inclusion Network & Operations Limited\\ndescription - Key Contributions: POS-Operations \\u00e2?\\u00a2 Cascading the adherence of process is strictly followed by team members & training them to reduce the downtime.\\n\\u00e2?\\u00a2 Managing Stock of EDC Terminals \\u00e2?\\u00a2 Managing Deployments of terminals through Multiple teams \\u00e2?\\u00a2 Would have worked with multiple terminal make & model \\u00e2?\\u00a2 Managing Inward, Outward & QC of applications installed in the POS machines.\\ncompany - Venture Infotek Private Ltd\\ndescription - Key Contributions: POS-Operations\\ncompany - Axis Bank Ltd - Customer Services\\ndescription - Aug 2006 to Oct 2009 (Ma-Foi&I- smart)\\n\\nDesignation: Team Leader/Executive - Emails, Phone Banking & Correspondence Unit (Snail Mails)\",\n          \"Skill Set: Hadoop, Map Reduce, HDFS, Hive, Sqoop, java. Duration: 2016 to 2017. Role: Hadoop Developer Rplus offers an quick, simple and powerful cloud based Solution, Demand Sense to accurately predict demand for your product in all your markets which Combines Enterprise and External Data to predict demand more accurately through Uses Social Conversation and Sentiments to derive demand and Identifies significant drivers of sale out of hordes of factors that Selects the best suited model out of multiple forecasting models for each product. Responsibilities: \\u00e2?\\u00a2 Involved in deploying the product for customers, gathering requirements and algorithm optimization at backend of the product. \\u00e2?\\u00a2 Load and transform Large Datasets of structured semi structured. \\u00e2?\\u00a2 Responsible to manage data coming from different sources and application \\u00e2?\\u00a2 Supported Map Reduce Programs those are running on the cluster \\u00e2?\\u00a2 Involved in creating Hive tables, loading with data and writing hive queries which will run internally in map reduce way.Education Details \\n\\nHadoop Developer \\n\\nHadoop Developer - Braindatawire\\nSkill Details \\nAPACHE HADOOP HDFS- Exprience - 49 months\\nAPACHE HADOOP SQOOP- Exprience - 49 months\\nHadoop- Exprience - 49 months\\nHADOOP- Exprience - 49 months\\nHADOOP DISTRIBUTED FILE SYSTEM- Exprience - 49 monthsCompany Details \\ncompany - Braindatawire\\ndescription - Technical Skills:\\n\\u00e2?\\u00a2   Programming: Core Java, Map Reduce, Scala\\n\\u00e2?\\u00a2   Hadoop Tools: HDFS, Spark, Map Reduce, Sqoop, Hive, Hbase\\n\\u00e2?\\u00a2   Database: MySQL, Oracle\\n\\u00e2?\\u00a2   Scripting: Shell Scripting\\n\\u00e2?\\u00a2   IDE: Eclipse\\n\\u00e2?\\u00a2   Operating Systems: Linux (CentOS), Windows\\n\\u00e2?\\u00a2   Source Control: Git (Github)\",\n          \"IT Skills: Area Exposure Modeling Tool: Bizagi, MS Visio Prototyping Tool: Indigo Studio. Documentation: MS Office (MS Word, MS Excel, MS Power Point) Testing Proficiency: Smoke, Sanity, Integration, Functional, Acceptance and UI Methodology implemented: Waterfall, Agile (Scrum) Database: SQL Testing Tool: HPQC Business Exposure Education Details \\n Bachelor Of Computer Engineering Computer Engineering Mumbai, Maharashtra Thadomal Shahani Engineering college\\n Diploma Computer Engineering Ulhasnagar, Maharashtra Institute of Technology\\n Secondary School Certificate  Ulhasnagar, Maharashtra New English High School\\nSenior Business Analyst - RPA \\n\\nSenior Business Analyst - RPA - Hexaware Technologies\\nSkill Details \\nDOCUMENTATION- Exprience - 47 months\\nTESTING- Exprience - 29 months\\nINTEGRATION- Exprience - 25 months\\nINTEGRATOR- Exprience - 25 months\\nPROTOTYPE- Exprience - 13 monthsCompany Details \\ncompany - Hexaware Technologies\\ndescription - Working as a RPA Business Analyst\\ncompany - BBH- Brown Brothers Harriman & Co\\ndescription - is a private bank that provides commercial banking, investment management, brokerage, and trust services to private companies and individuals. It also performs merger advisory, foreign exchange, custody services, commercial banking, and corporate financing services.\\n\\nResponsibilities: \\u00e2?\\u00a2 Performed Automation Assessment of various Processes and identified processes which can be candidates of RPA.\\n\\u00e2?\\u00a2 Conducting Assessment that involves an initial Understanding of the Existing System, their technology, processes, Usage of the tools, Feasibility of tool with automation tool along with automation ROI analysis.\\n\\u00e2?\\u00a2 Preparing the Automation Potential Sheet which describes the steps in the process, the volume and frequency of the transaction, the AHT taken by SME to perform the process and depending on the steps that could be automated, Automation potential and the manual efforts that will be saved are calculated.\\nCalculating the complexity of the Process which is considered for automation and depending on all these factors Number of Bots and Number of Automation tool Licenses are determined.\\n\\u00e2?\\u00a2 Implementing a Proof of Concept (POC) to Validate Feasibility by executing the selected critical use cases for conducting a POC which will helps to identify financial and operational benefits and provide recommendations regarding the actual need for complete automation.\\n\\u00e2?\\u00a2 Gathering business requirements by conducting detailed interviews with business users, stakeholders, and Subject Matter Experts (SME's) \\u00e2?\\u00a2 Preparing Business Requirement Document and then converted Business requirements into Functional Requirements Specification.\\n \\u00e2?\\u00a2 Constructing prototype early toward a design acceptable to the customer and feasible.\\n\\u00e2?\\u00a2 Assisting in designing test plans, test scenarios and test cases for integration, regression, and user acceptance testing (UAT) to improve the overall quality of the Automation.\\n\\u00e2?\\u00a2 Participating regularly in Walkthroughs and Review meetings with Project Manager, QA Engineers, and Development team.\\n\\u00e2?\\u00a2 Regularly interacting with offshore and onshore development teams.\\ncompany - FADV - First Advantage\\ndescription - is a criminal background check company that delivers global solutions ranging from employment screenings to background checks.\\nThe following are the processes which were covered:\\nEmail Process, Research Process, Review Process.\\n\\nResponsibilities: \\u00e2?\\u00a2 Requirement Gathering through conducting Interviews & Brainstorming sessions with stakeholders \\u00e2?\\u00a2 To develop decision models and execute those rules as per the use case specifications.\\n\\u00e2?\\u00a2 To Test/validate the decision models against document test data.\\n\\u00e2?\\u00a2 To maintain and enhance the decision models for changes in regulations as per use case specifications.\\n\\u00e2?\\u00a2 Responsible for performing the business research that will make a business growth.\\n\\u00e2?\\u00a2 Developing a clear understanding of existing business functions and processes.\\n\\u00e2?\\u00a2 Effectively communicate with the onsite clients for the queries, suggestions, and update.\\n\\u00e2?\\u00a2 Giving suggestions to enhance the current processes.\\n\\u00e2?\\u00a2 Identifying areas for process improvement.\\n\\u00e2?\\u00a2 Flagging up potential problems at an early stage.\\n\\u00e2?\\u00a2 Preparing PowerPoint presentations and documents for business meetings.\\n\\u00e2?\\u00a2 Using any information gathered to write up detailed reports.\\n\\u00e2?\\u00a2 Highlighting risks and issues that could impact project delivery.\\n\\u00e2?\\u00a2 Able to work accurately.\\n\\u00e2?\\u00a2 To develop and maintain documentation for internal team training and client end user operations.\\n\\u00e2?\\u00a2 To work efficiently with team members and across teams.\\n\\u00e2?\\u00a2 To mentor and train junior team members.\\ncompany - Clinical Testing, Lab Work and Diagnostic Testing\\ndescription - IQVIA provides services to its customers this includes: Clinical Testing, Lab Work and Diagnostic Testing under clinical trial. These customers need to pay to IQVIA and aging details and invoices are generated for the same.\\nThe following are the processes which were covered:\\n\\nTracking Payments, Automated Real Time Metrics Reporting (Dashboard), Past Due Notifications, AR Statements, Credit/Rebill.\\nResponsibilities: \\u00e2?\\u00a2 Conducting meetings with clients and key stakeholders to gather requirements, analyze, finalize and have formal sign-offs from approvers Gather and perform analysis of the business requirements \\u00e2?\\u00a2 Translating the business requirements into the Business Requirement Document [BRD], Functional Requirement Document [FRD].\\n\\u00e2?\\u00a2 Facilitating meetings with the appropriate subject matter experts in both business and technology teams \\u00e2?\\u00a2 Coordinating with business user community for the execution of user acceptance test as well as tracking issues \\u00e2?\\u00a2 Working, collaborating and coordinating with Offshore and Onsite team members to fulfill the BA responsibilities from project initiation to Post-Implementation \\u00e2?\\u00a2 Reviewing the test scripts with business users as well as technology team. Execute test scripts with expected results for the System Integration Test (SIT) and User Acceptance Test (UAT) \\u00e2?\\u00a2 Coordinating and conducting the Production Acceptance Testing (PAT) with the business users \\u00e2?\\u00a2 Creating flow diagrams, structure charts, and other types of system or process representations \\u00e2?\\u00a2 Managing changes to requirements and baseline through a change control process \\u00e2?\\u00a2 Utilizing standard methods, design and testing tools throughout project development life cycle \\u00e2?\\u00a2 Work closely with the operational functional teams, operations management, and personnel, and various technology teams to facilitate a shared understanding of requirements and priorities across all areas\\ncompany - Eduavenir IT Solution\\ndescription - Project: M.B.M.S\\n\\nM.B.M.S. - is an Inventory management application that allows user to manage inventory details of different warehouses, having different products located at various locations and help extract what goods have been procured, sold or returned by customers. It generates automated invoicesalong withcustomized reports. It also managescustomer complaint and resolution system implementation along with automated MIS on monthly basis.Sales and forecastingis also developed on MIS System and the streamlining of process of warehousing and dispatch along with online proof of delivery management system (POD documentation) is generated.\\n\\nResponsibilities: \\u00e2?\\u00a2 Participate in requirement gathering discussion with client to understand the flow of business processes \\u00e2?\\u00a2 Analyze the requirements and determine the core processes, develop Process Documentation and ensure to stay up-to-date in conjunction with on-going changes \\u00e2?\\u00a2 Participate in process flow analysis and preparing BRD, SRS.\\n\\u00e2?\\u00a2 Coordinating with developers, designers & operations teams for various nuances of the project, communicate the stakeholder requirements from requirement /enhancement to implementation and finally deliver the same within estimated timeframe.\\n\\u00e2?\\u00a2 Support UAT by reviewing test cases, manage version control of documents, software builds.\\n\\u00e2?\\u00a2 Coordinate with the stakeholders for UAT sign off and coordinate internally for production movement till Golive stage of the application.\\n\\u00e2?\\u00a2 Provide demo and training to internal and end user using PowerPoint presentation.\\n\\u00e2?\\u00a2 Resolving project functional &technical issues during UAT.\\n\\u00e2?\\u00a2 Prioritizing the Production bugs and resolving the same within the estimated timeframe.\\n\\u00e2?\\u00a2 Preparing Project Status Report and Production Bugs Status to all the stakeholders.\\n\\u00e2?\\u00a2 Promoting and Networking for online trading platform.\\n\\u00e2?\\u00a2 Designing query sheet for obtaining and comparison of quotes from various vendors.\\n\\u00e2?\\u00a2 Development of product codes / material codes for inventory management (Master Data Management)\\ncompany - CAPGEMINI Head Office\\ndescription - Type: Mobile and Device Testing.       Duration: January 2014 - August 2014\\n\\nFollet - An application which takes an electronic request from the user for the books he requires from a particular follet store. This detailed information about books that will include the name of the book, its price, the date of the transaction and the parties involved which will then be sent to follet stores. User then create request for one or more books for a given date. This request is then processed further and user gets a mail of the date when he will be provided with that book.\\n\\nResponsibilities: \\u00e2?\\u00a2 Understanding the needs and business requirements.\\n\\u00e2?\\u00a2 Preparing BRD, SRS by eliciting all the requirements from the client and SMEs \\u00e2?\\u00a2 Understanding the dependency of the modules in the system \\u00e2?\\u00a2 Preparation of test plan for Unit level and Integration level.\\n\\u00e2?\\u00a2 Preparation and execution of test cases.\\n\\u00e2?\\u00a2 Defect tracking, Issue Resolution, Risk Monitoring, Status Tracking, Reporting and Follow-up.\\n\\u00e2?\\u00a2 Preparation of Test Completion report.\\ncompany - CAPGEMINI Head Office\\ndescription - \\ncompany - CAPGEMINI Head Office\\ndescription - Humana is a health care insurance project of U.S. which deals with supplying various medicines to citizens as per the doctor's reference and patient's insurance policy. This application keeps track of all the medicines user has consumed in the past and generates a patient history. A citizen is given a drug only after the doctor's reference so the doctor's information is also linked with the patient's history.\\n\\nResponsibilities: \\u00e2?\\u00a2 Understanding the requirements and getting clarifications from client.\\n\\u00e2?\\u00a2 Involved in writing test cases based on test scenarios and execute them.\\n\\u00e2?\\u00a2 Ensuring Test Coverage using Requirement Traceability Matrix (RTM) \\u00e2?\\u00a2 Preparation of Test Completion report.\\ncompany - CAPGEMINI Head Office\\ndescription - Testing Trends WQR (World Quality Report) is an application which allows the users to take a survey on different methods and technologies used for testing. Users can choose to answer any type of questions under three different categories. Users have a facility to search, view and export the data to excel. Also, users get daily and weekly reports through email about the new trends in testing implemented around the globe. Testing Trends WQR app is available on Android and IOS platforms.\\n\\nResponsibilities: \\u00e2?\\u00a2 Understanding the requirements and getting clarifications from client.\\n\\u00e2?\\u00a2 Writing test cases based on test scenarios and executed them.\\n\\u00e2?\\u00a2 Performing different types of testing such as Functional, Integration, System, and UAT.\\n\\u00e2?\\u00a2 Defect resolution and maintenance of the application.\"\n        ],\n        \"semantic_type\": \"\",\n        \"description\": \"\"\n      }\n    }\n  ]\n}"
            }
          },
          "metadata": {},
          "execution_count": 7
        }
      ],
      "source": [
        "# Try reading the CSV with a specific encoding\n",
        "try:\n",
        "    df = pd.read_csv('UpdatedResume_DataSet (1).csv', encoding='utf-8')\n",
        "except UnicodeDecodeError:\n",
        "    # If utf-8 fails, try another common encoding\n",
        "    df = pd.read_csv('UpdatedResume_DataSet (1).csv', encoding='latin-1')\n",
        "\n",
        "# Display the Frame\n",
        "df.head(10)"
      ]
    },
    {
      "cell_type": "code",
      "execution_count": null,
      "id": "3d3db2ee-c88c-4d80-89b8-ff2c1d495446",
      "metadata": {
        "colab": {
          "base_uri": "https://localhost:8080/",
          "height": 363
        },
        "id": "3d3db2ee-c88c-4d80-89b8-ff2c1d495446",
        "outputId": "17d5759d-c606-4383-f834-d1858ad85203"
      },
      "outputs": [
        {
          "output_type": "execute_result",
          "data": {
            "text/plain": [
              "               Category                                             Resume\n",
              "466  Automation Testing  SKILLS Agile Methodology Scrum, Kanban, Extrem...\n",
              "479  Automation Testing  SKILLS Agile Methodology Scrum, Kanban, Extrem...\n",
              "294  Health and fitness  Education Details \\nMay 2014 Diploma Nutrition...\n",
              "346      Java Developer  Skills â?¢ Language: Java â?¢ Operating System...\n",
              "440       SAP Developer  Education Details \\nMay 2013 Master Computer A...\n",
              "622     DevOps Engineer  Software Proficiency: â?¢ Languages: Basics of...\n",
              "574    Python Developer  â?¢ Operating Systems: Windows â?¢ Others: MS ...\n",
              "932             Testing  COMPUTER SKILLS & SOFTWARE KNOWLEDGE MS-Power ...\n",
              "79                   HR  Education Details \\n MBA   ACN College of engi...\n",
              "266  Health and fitness  Education Details \\nJanuary 2018 M.S. Nutritio..."
            ],
            "text/html": [
              "\n",
              "  <div id=\"df-28beec41-f15e-4104-9916-789e949a8aa8\" class=\"colab-df-container\">\n",
              "    <div>\n",
              "<style scoped>\n",
              "    .dataframe tbody tr th:only-of-type {\n",
              "        vertical-align: middle;\n",
              "    }\n",
              "\n",
              "    .dataframe tbody tr th {\n",
              "        vertical-align: top;\n",
              "    }\n",
              "\n",
              "    .dataframe thead th {\n",
              "        text-align: right;\n",
              "    }\n",
              "</style>\n",
              "<table border=\"1\" class=\"dataframe\">\n",
              "  <thead>\n",
              "    <tr style=\"text-align: right;\">\n",
              "      <th></th>\n",
              "      <th>Category</th>\n",
              "      <th>Resume</th>\n",
              "    </tr>\n",
              "  </thead>\n",
              "  <tbody>\n",
              "    <tr>\n",
              "      <th>466</th>\n",
              "      <td>Automation Testing</td>\n",
              "      <td>SKILLS Agile Methodology Scrum, Kanban, Extrem...</td>\n",
              "    </tr>\n",
              "    <tr>\n",
              "      <th>479</th>\n",
              "      <td>Automation Testing</td>\n",
              "      <td>SKILLS Agile Methodology Scrum, Kanban, Extrem...</td>\n",
              "    </tr>\n",
              "    <tr>\n",
              "      <th>294</th>\n",
              "      <td>Health and fitness</td>\n",
              "      <td>Education Details \\nMay 2014 Diploma Nutrition...</td>\n",
              "    </tr>\n",
              "    <tr>\n",
              "      <th>346</th>\n",
              "      <td>Java Developer</td>\n",
              "      <td>Skills â?¢ Language: Java â?¢ Operating System...</td>\n",
              "    </tr>\n",
              "    <tr>\n",
              "      <th>440</th>\n",
              "      <td>SAP Developer</td>\n",
              "      <td>Education Details \\nMay 2013 Master Computer A...</td>\n",
              "    </tr>\n",
              "    <tr>\n",
              "      <th>622</th>\n",
              "      <td>DevOps Engineer</td>\n",
              "      <td>Software Proficiency: â?¢ Languages: Basics of...</td>\n",
              "    </tr>\n",
              "    <tr>\n",
              "      <th>574</th>\n",
              "      <td>Python Developer</td>\n",
              "      <td>â?¢ Operating Systems: Windows â?¢ Others: MS ...</td>\n",
              "    </tr>\n",
              "    <tr>\n",
              "      <th>932</th>\n",
              "      <td>Testing</td>\n",
              "      <td>COMPUTER SKILLS &amp; SOFTWARE KNOWLEDGE MS-Power ...</td>\n",
              "    </tr>\n",
              "    <tr>\n",
              "      <th>79</th>\n",
              "      <td>HR</td>\n",
              "      <td>Education Details \\n MBA   ACN College of engi...</td>\n",
              "    </tr>\n",
              "    <tr>\n",
              "      <th>266</th>\n",
              "      <td>Health and fitness</td>\n",
              "      <td>Education Details \\nJanuary 2018 M.S. Nutritio...</td>\n",
              "    </tr>\n",
              "  </tbody>\n",
              "</table>\n",
              "</div>\n",
              "    <div class=\"colab-df-buttons\">\n",
              "\n",
              "  <div class=\"colab-df-container\">\n",
              "    <button class=\"colab-df-convert\" onclick=\"convertToInteractive('df-28beec41-f15e-4104-9916-789e949a8aa8')\"\n",
              "            title=\"Convert this dataframe to an interactive table.\"\n",
              "            style=\"display:none;\">\n",
              "\n",
              "  <svg xmlns=\"http://www.w3.org/2000/svg\" height=\"24px\" viewBox=\"0 -960 960 960\">\n",
              "    <path d=\"M120-120v-720h720v720H120Zm60-500h600v-160H180v160Zm220 220h160v-160H400v160Zm0 220h160v-160H400v160ZM180-400h160v-160H180v160Zm440 0h160v-160H620v160ZM180-180h160v-160H180v160Zm440 0h160v-160H620v160Z\"/>\n",
              "  </svg>\n",
              "    </button>\n",
              "\n",
              "  <style>\n",
              "    .colab-df-container {\n",
              "      display:flex;\n",
              "      gap: 12px;\n",
              "    }\n",
              "\n",
              "    .colab-df-convert {\n",
              "      background-color: #E8F0FE;\n",
              "      border: none;\n",
              "      border-radius: 50%;\n",
              "      cursor: pointer;\n",
              "      display: none;\n",
              "      fill: #1967D2;\n",
              "      height: 32px;\n",
              "      padding: 0 0 0 0;\n",
              "      width: 32px;\n",
              "    }\n",
              "\n",
              "    .colab-df-convert:hover {\n",
              "      background-color: #E2EBFA;\n",
              "      box-shadow: 0px 1px 2px rgba(60, 64, 67, 0.3), 0px 1px 3px 1px rgba(60, 64, 67, 0.15);\n",
              "      fill: #174EA6;\n",
              "    }\n",
              "\n",
              "    .colab-df-buttons div {\n",
              "      margin-bottom: 4px;\n",
              "    }\n",
              "\n",
              "    [theme=dark] .colab-df-convert {\n",
              "      background-color: #3B4455;\n",
              "      fill: #D2E3FC;\n",
              "    }\n",
              "\n",
              "    [theme=dark] .colab-df-convert:hover {\n",
              "      background-color: #434B5C;\n",
              "      box-shadow: 0px 1px 3px 1px rgba(0, 0, 0, 0.15);\n",
              "      filter: drop-shadow(0px 1px 2px rgba(0, 0, 0, 0.3));\n",
              "      fill: #FFFFFF;\n",
              "    }\n",
              "  </style>\n",
              "\n",
              "    <script>\n",
              "      const buttonEl =\n",
              "        document.querySelector('#df-28beec41-f15e-4104-9916-789e949a8aa8 button.colab-df-convert');\n",
              "      buttonEl.style.display =\n",
              "        google.colab.kernel.accessAllowed ? 'block' : 'none';\n",
              "\n",
              "      async function convertToInteractive(key) {\n",
              "        const element = document.querySelector('#df-28beec41-f15e-4104-9916-789e949a8aa8');\n",
              "        const dataTable =\n",
              "          await google.colab.kernel.invokeFunction('convertToInteractive',\n",
              "                                                    [key], {});\n",
              "        if (!dataTable) return;\n",
              "\n",
              "        const docLinkHtml = 'Like what you see? Visit the ' +\n",
              "          '<a target=\"_blank\" href=https://colab.research.google.com/notebooks/data_table.ipynb>data table notebook</a>'\n",
              "          + ' to learn more about interactive tables.';\n",
              "        element.innerHTML = '';\n",
              "        dataTable['output_type'] = 'display_data';\n",
              "        await google.colab.output.renderOutput(dataTable, element);\n",
              "        const docLink = document.createElement('div');\n",
              "        docLink.innerHTML = docLinkHtml;\n",
              "        element.appendChild(docLink);\n",
              "      }\n",
              "    </script>\n",
              "  </div>\n",
              "\n",
              "\n",
              "    <div id=\"df-7f817dd2-4ac2-4267-a716-ee2e63056d0d\">\n",
              "      <button class=\"colab-df-quickchart\" onclick=\"quickchart('df-7f817dd2-4ac2-4267-a716-ee2e63056d0d')\"\n",
              "                title=\"Suggest charts\"\n",
              "                style=\"display:none;\">\n",
              "\n",
              "<svg xmlns=\"http://www.w3.org/2000/svg\" height=\"24px\"viewBox=\"0 0 24 24\"\n",
              "     width=\"24px\">\n",
              "    <g>\n",
              "        <path d=\"M19 3H5c-1.1 0-2 .9-2 2v14c0 1.1.9 2 2 2h14c1.1 0 2-.9 2-2V5c0-1.1-.9-2-2-2zM9 17H7v-7h2v7zm4 0h-2V7h2v10zm4 0h-2v-4h2v4z\"/>\n",
              "    </g>\n",
              "</svg>\n",
              "      </button>\n",
              "\n",
              "<style>\n",
              "  .colab-df-quickchart {\n",
              "      --bg-color: #E8F0FE;\n",
              "      --fill-color: #1967D2;\n",
              "      --hover-bg-color: #E2EBFA;\n",
              "      --hover-fill-color: #174EA6;\n",
              "      --disabled-fill-color: #AAA;\n",
              "      --disabled-bg-color: #DDD;\n",
              "  }\n",
              "\n",
              "  [theme=dark] .colab-df-quickchart {\n",
              "      --bg-color: #3B4455;\n",
              "      --fill-color: #D2E3FC;\n",
              "      --hover-bg-color: #434B5C;\n",
              "      --hover-fill-color: #FFFFFF;\n",
              "      --disabled-bg-color: #3B4455;\n",
              "      --disabled-fill-color: #666;\n",
              "  }\n",
              "\n",
              "  .colab-df-quickchart {\n",
              "    background-color: var(--bg-color);\n",
              "    border: none;\n",
              "    border-radius: 50%;\n",
              "    cursor: pointer;\n",
              "    display: none;\n",
              "    fill: var(--fill-color);\n",
              "    height: 32px;\n",
              "    padding: 0;\n",
              "    width: 32px;\n",
              "  }\n",
              "\n",
              "  .colab-df-quickchart:hover {\n",
              "    background-color: var(--hover-bg-color);\n",
              "    box-shadow: 0 1px 2px rgba(60, 64, 67, 0.3), 0 1px 3px 1px rgba(60, 64, 67, 0.15);\n",
              "    fill: var(--button-hover-fill-color);\n",
              "  }\n",
              "\n",
              "  .colab-df-quickchart-complete:disabled,\n",
              "  .colab-df-quickchart-complete:disabled:hover {\n",
              "    background-color: var(--disabled-bg-color);\n",
              "    fill: var(--disabled-fill-color);\n",
              "    box-shadow: none;\n",
              "  }\n",
              "\n",
              "  .colab-df-spinner {\n",
              "    border: 2px solid var(--fill-color);\n",
              "    border-color: transparent;\n",
              "    border-bottom-color: var(--fill-color);\n",
              "    animation:\n",
              "      spin 1s steps(1) infinite;\n",
              "  }\n",
              "\n",
              "  @keyframes spin {\n",
              "    0% {\n",
              "      border-color: transparent;\n",
              "      border-bottom-color: var(--fill-color);\n",
              "      border-left-color: var(--fill-color);\n",
              "    }\n",
              "    20% {\n",
              "      border-color: transparent;\n",
              "      border-left-color: var(--fill-color);\n",
              "      border-top-color: var(--fill-color);\n",
              "    }\n",
              "    30% {\n",
              "      border-color: transparent;\n",
              "      border-left-color: var(--fill-color);\n",
              "      border-top-color: var(--fill-color);\n",
              "      border-right-color: var(--fill-color);\n",
              "    }\n",
              "    40% {\n",
              "      border-color: transparent;\n",
              "      border-right-color: var(--fill-color);\n",
              "      border-top-color: var(--fill-color);\n",
              "    }\n",
              "    60% {\n",
              "      border-color: transparent;\n",
              "      border-right-color: var(--fill-color);\n",
              "    }\n",
              "    80% {\n",
              "      border-color: transparent;\n",
              "      border-right-color: var(--fill-color);\n",
              "      border-bottom-color: var(--fill-color);\n",
              "    }\n",
              "    90% {\n",
              "      border-color: transparent;\n",
              "      border-bottom-color: var(--fill-color);\n",
              "    }\n",
              "  }\n",
              "</style>\n",
              "\n",
              "      <script>\n",
              "        async function quickchart(key) {\n",
              "          const quickchartButtonEl =\n",
              "            document.querySelector('#' + key + ' button');\n",
              "          quickchartButtonEl.disabled = true;  // To prevent multiple clicks.\n",
              "          quickchartButtonEl.classList.add('colab-df-spinner');\n",
              "          try {\n",
              "            const charts = await google.colab.kernel.invokeFunction(\n",
              "                'suggestCharts', [key], {});\n",
              "          } catch (error) {\n",
              "            console.error('Error during call to suggestCharts:', error);\n",
              "          }\n",
              "          quickchartButtonEl.classList.remove('colab-df-spinner');\n",
              "          quickchartButtonEl.classList.add('colab-df-quickchart-complete');\n",
              "        }\n",
              "        (() => {\n",
              "          let quickchartButtonEl =\n",
              "            document.querySelector('#df-7f817dd2-4ac2-4267-a716-ee2e63056d0d button');\n",
              "          quickchartButtonEl.style.display =\n",
              "            google.colab.kernel.accessAllowed ? 'block' : 'none';\n",
              "        })();\n",
              "      </script>\n",
              "    </div>\n",
              "\n",
              "    </div>\n",
              "  </div>\n"
            ],
            "application/vnd.google.colaboratory.intrinsic+json": {
              "type": "dataframe",
              "summary": "{\n  \"name\": \"df\",\n  \"rows\": 10,\n  \"fields\": [\n    {\n      \"column\": \"Category\",\n      \"properties\": {\n        \"dtype\": \"string\",\n        \"num_unique_values\": 8,\n        \"samples\": [\n          \"Health and fitness\",\n          \"Python Developer\",\n          \"Automation Testing\"\n        ],\n        \"semantic_type\": \"\",\n        \"description\": \"\"\n      }\n    },\n    {\n      \"column\": \"Resume\",\n      \"properties\": {\n        \"dtype\": \"string\",\n        \"num_unique_values\": 9,\n        \"samples\": [\n          \"Education Details \\n MBA   ACN College of engineering & mgt\\nHR \\n\\n\\nSkill Details \\nCompany Details \\ncompany - HR Assistant\\ndescription - \",\n          \"Education Details \\nMay 2014 Diploma Nutrition Education Bengaluru, Karnataka IGNOU University\\nJune 2004 Bachelor of Science Clinical Nutrition and Dietetics Bengaluru, Karnataka Smt. VHD Institute of HomeScience\\nHealth and wellness coach \\n\\nAdvance PG diploma in Clinical research, Clinical data management and SAS\\nSkill Details \\nCompany Details \\ncompany - GOQii Technologies Ltd\\ndescription - \\u00e2?\\u00a2 Motivate players (i.e. GOQii subscribers) to make a permanent shift to a healthier lifestyle and enhance health, nutrition and karma\\n\\u00e2?\\u00a2 Track and analyse player's lifestyle and fitness data captured through the GOQii band.\\n\\u00e2?\\u00a2 Design custom wellness/fitness goals mutually with players and coach them in meeting these goals.\\n\\u00e2?\\u00a2 Interact with GOQii Players on a daily basis via GOQii App text/audio.\\ncompany - \\ndescription - VIA Health Marketing & Innovations\\n\\n\\u00e2?\\u00a2 Viamedia health had jointly organized a National Campaign of Maternal Nutrition Evaluation with GlaxoSmithKline-Consumer Healthcare.\\n\\u00e2?\\u00a2 Conduct Maternal Nutritional Counselling Camps with practicing Gynaecologists at different hospitals/clinics allotted by the medical representative.\\n\\u00e2?\\u00a2 Conveying the Importance of every nutrient required during this time and foods that contain this type of nutrients.\\n\\u00e2?\\u00a2 Coordinating with the Area Branch Manager and in turn reporting to the ViaMedia Manager with the daily reports.\\ncompany - LifeKonnect Department\\ndescription - United Health Care India Pvt. Ltd\\n\\n\\u00e2?\\u00a2 LifeKonnect business offers Health Checkups across 800 Cities & 3000 Diagnostic Centres and leaders in this business and also looks into the Operations & organising & supervising medicals for customers of different Insurance companies whose medical come under the rule & regulation of IRDA ( MNYL Iinsurance, BAXA life Insurance, METLIFE insurance, Canara HSBC insurance.\\n\\u00e2?\\u00a2 To proactively monitor the deferrals and ensure that they are done within the stipulated time line.\\n\\u00e2?\\u00a2 Ensuring a high level of professionalism through pro-active Customer relationship management by resolving their queries and complaints in a fair manner within the specified time.\\n\\u00e2?\\u00a2 Co-ordinating with the Lifekonnect members from different centres and in turn reporting to the Team leader.\\ncompany - VLCC HealthCare Ltd\\ndescription - Counselling to individuals on nutrition status, providing diet instructions to clients and impact on eating & nutrition. Create and present in-services to the clients.\\n\\u00e2?\\u00a2 Handling enquiries from Customers / Distributors through emails, letters, telephone etc.\\n\\u00e2?\\u00a2 Preparing Payment Bills for the customers.\\n\\u00e2?\\u00a2 Assisting the Slimming Manager in conference calls to discuss Nutritional care plans, and Nutrition education.\\n\\u00e2?\\u00a2 Co-ordinating with the sales members and in turn reporting to the Sales Manager.\",\n          \"\\u00e2?\\u00a2 Operating Systems: Windows \\u00e2?\\u00a2 Others: MS Excel, MS Office, MS Power Point Key Projects Handled Project Title: fruit sorting and disease detection Client: Kranti Dynamics Team Size: 5 Education Details \\nJanuary 2014 B.E. Electronics Mumbai, Maharashtra University of Mumbai\\nPython Developer/analyst \\n\\npython developer and data analyst\\nSkill Details \\npython scripting,programming,developing- Exprience - 12 months\\nfrontend  ,html- Exprience - 12 months\\npython liabrary, numpy,pandas,matplolib,requests,beautiful soap- Exprience - 12 months\\nmysql- Exprience - 12 months\\ndjango- Exprience - 12 months\\nweb scrapping- Exprience - Less than 1 year monthsCompany Details \\ncompany - Ace The Power of 5\\ndescription - The Accountabilities:\\n\\n\\u00e2?? Understanding the functional requirements of the application given by the client.\\n\\n\\u00e2?? Participated in walkthroughs of business requirements, functional requirements and technical design to ensure their testability.\\n\\n\\u00e2?? Responsible for Software Configuration Management of project deliverables.\\n\\nTechnical skill set:\\n\\n\\u00e2?\\u00a2 Languages: C, C ++, Java, python,python liabray,mysql,django,html\\n\\n\\u00e2?\\u00a2 Scripting: Python,\\n\\u00e2?\\u00a2 GUI development: Tk, Java\\ncompany - kranti dyanamics\\ndescription - programming,scripting,developer,web scrapping\"\n        ],\n        \"semantic_type\": \"\",\n        \"description\": \"\"\n      }\n    }\n  ]\n}"
            }
          },
          "metadata": {},
          "execution_count": 8
        }
      ],
      "source": [
        "df.sample(10)\n"
      ]
    },
    {
      "cell_type": "code",
      "execution_count": null,
      "id": "0cf92a43-8fc3-42f6-810f-9c2c4a3a9b70",
      "metadata": {
        "colab": {
          "base_uri": "https://localhost:8080/"
        },
        "id": "0cf92a43-8fc3-42f6-810f-9c2c4a3a9b70",
        "outputId": "7969f315-2845-4720-ac8d-6ad40947c49a"
      },
      "outputs": [
        {
          "output_type": "execute_result",
          "data": {
            "text/plain": [
              "(962, 2)"
            ]
          },
          "metadata": {},
          "execution_count": 9
        }
      ],
      "source": [
        "df.shape"
      ]
    },
    {
      "cell_type": "code",
      "execution_count": null,
      "id": "eb984755-b129-4cd5-9ac8-a290e4d9a907",
      "metadata": {
        "colab": {
          "base_uri": "https://localhost:8080/",
          "height": 899
        },
        "id": "eb984755-b129-4cd5-9ac8-a290e4d9a907",
        "outputId": "3c98a7dd-232b-4b85-f054-a6dfced71d46"
      },
      "outputs": [
        {
          "output_type": "execute_result",
          "data": {
            "text/plain": [
              "Category\n",
              "Java Developer               84\n",
              "Testing                      70\n",
              "DevOps Engineer              55\n",
              "Python Developer             48\n",
              "Web Designing                45\n",
              "HR                           44\n",
              "Hadoop                       42\n",
              "Sales                        40\n",
              "Data Science                 40\n",
              "Mechanical Engineer          40\n",
              "ETL Developer                40\n",
              "Blockchain                   40\n",
              "Operations Manager           40\n",
              "Arts                         36\n",
              "Database                     33\n",
              "Health and fitness           30\n",
              "PMO                          30\n",
              "Electrical Engineering       30\n",
              "Business Analyst             28\n",
              "DotNet Developer             28\n",
              "Automation Testing           26\n",
              "Network Security Engineer    25\n",
              "Civil Engineer               24\n",
              "SAP Developer                24\n",
              "Advocate                     20\n",
              "Name: count, dtype: int64"
            ],
            "text/html": [
              "<div>\n",
              "<style scoped>\n",
              "    .dataframe tbody tr th:only-of-type {\n",
              "        vertical-align: middle;\n",
              "    }\n",
              "\n",
              "    .dataframe tbody tr th {\n",
              "        vertical-align: top;\n",
              "    }\n",
              "\n",
              "    .dataframe thead th {\n",
              "        text-align: right;\n",
              "    }\n",
              "</style>\n",
              "<table border=\"1\" class=\"dataframe\">\n",
              "  <thead>\n",
              "    <tr style=\"text-align: right;\">\n",
              "      <th></th>\n",
              "      <th>count</th>\n",
              "    </tr>\n",
              "    <tr>\n",
              "      <th>Category</th>\n",
              "      <th></th>\n",
              "    </tr>\n",
              "  </thead>\n",
              "  <tbody>\n",
              "    <tr>\n",
              "      <th>Java Developer</th>\n",
              "      <td>84</td>\n",
              "    </tr>\n",
              "    <tr>\n",
              "      <th>Testing</th>\n",
              "      <td>70</td>\n",
              "    </tr>\n",
              "    <tr>\n",
              "      <th>DevOps Engineer</th>\n",
              "      <td>55</td>\n",
              "    </tr>\n",
              "    <tr>\n",
              "      <th>Python Developer</th>\n",
              "      <td>48</td>\n",
              "    </tr>\n",
              "    <tr>\n",
              "      <th>Web Designing</th>\n",
              "      <td>45</td>\n",
              "    </tr>\n",
              "    <tr>\n",
              "      <th>HR</th>\n",
              "      <td>44</td>\n",
              "    </tr>\n",
              "    <tr>\n",
              "      <th>Hadoop</th>\n",
              "      <td>42</td>\n",
              "    </tr>\n",
              "    <tr>\n",
              "      <th>Sales</th>\n",
              "      <td>40</td>\n",
              "    </tr>\n",
              "    <tr>\n",
              "      <th>Data Science</th>\n",
              "      <td>40</td>\n",
              "    </tr>\n",
              "    <tr>\n",
              "      <th>Mechanical Engineer</th>\n",
              "      <td>40</td>\n",
              "    </tr>\n",
              "    <tr>\n",
              "      <th>ETL Developer</th>\n",
              "      <td>40</td>\n",
              "    </tr>\n",
              "    <tr>\n",
              "      <th>Blockchain</th>\n",
              "      <td>40</td>\n",
              "    </tr>\n",
              "    <tr>\n",
              "      <th>Operations Manager</th>\n",
              "      <td>40</td>\n",
              "    </tr>\n",
              "    <tr>\n",
              "      <th>Arts</th>\n",
              "      <td>36</td>\n",
              "    </tr>\n",
              "    <tr>\n",
              "      <th>Database</th>\n",
              "      <td>33</td>\n",
              "    </tr>\n",
              "    <tr>\n",
              "      <th>Health and fitness</th>\n",
              "      <td>30</td>\n",
              "    </tr>\n",
              "    <tr>\n",
              "      <th>PMO</th>\n",
              "      <td>30</td>\n",
              "    </tr>\n",
              "    <tr>\n",
              "      <th>Electrical Engineering</th>\n",
              "      <td>30</td>\n",
              "    </tr>\n",
              "    <tr>\n",
              "      <th>Business Analyst</th>\n",
              "      <td>28</td>\n",
              "    </tr>\n",
              "    <tr>\n",
              "      <th>DotNet Developer</th>\n",
              "      <td>28</td>\n",
              "    </tr>\n",
              "    <tr>\n",
              "      <th>Automation Testing</th>\n",
              "      <td>26</td>\n",
              "    </tr>\n",
              "    <tr>\n",
              "      <th>Network Security Engineer</th>\n",
              "      <td>25</td>\n",
              "    </tr>\n",
              "    <tr>\n",
              "      <th>Civil Engineer</th>\n",
              "      <td>24</td>\n",
              "    </tr>\n",
              "    <tr>\n",
              "      <th>SAP Developer</th>\n",
              "      <td>24</td>\n",
              "    </tr>\n",
              "    <tr>\n",
              "      <th>Advocate</th>\n",
              "      <td>20</td>\n",
              "    </tr>\n",
              "  </tbody>\n",
              "</table>\n",
              "</div><br><label><b>dtype:</b> int64</label>"
            ]
          },
          "metadata": {},
          "execution_count": 10
        }
      ],
      "source": [
        "df['Category'].value_counts()"
      ]
    },
    {
      "cell_type": "code",
      "execution_count": null,
      "id": "91dfc87c-42cf-43f0-bad0-a3d361d10a04",
      "metadata": {
        "colab": {
          "base_uri": "https://localhost:8080/",
          "height": 1000
        },
        "id": "91dfc87c-42cf-43f0-bad0-a3d361d10a04",
        "outputId": "bba891bd-de7e-46d6-86af-fe3177cbaf42"
      },
      "outputs": [
        {
          "output_type": "stream",
          "name": "stderr",
          "text": [
            "<ipython-input-11-2f9a9c0211a6>:3: FutureWarning: \n",
            "\n",
            "Passing `palette` without assigning `hue` is deprecated and will be removed in v0.14.0. Assign the `x` variable to `hue` and set `legend=False` for the same effect.\n",
            "\n",
            "  sns_plot = sns.countplot(x=df['Category'], palette='hls')\n"
          ]
        },
        {
          "output_type": "display_data",
          "data": {
            "text/plain": [
              "<Figure size 1000x1500 with 1 Axes>"
            ],
            "image/png": "[encoded data removed]"
          },
          "metadata": {}
        }
      ],
      "source": [
        "plt.figure(figsize=(10,15))\n",
        "# sns_plot = sns.countplot(x=df['Category'])\n",
        "sns_plot = sns.countplot(x=df['Category'], palette='hls')\n",
        "\n",
        "# Increase the size of the x and y labels\n",
        "sns_plot.set_xlabel('Category')\n",
        "sns_plot.set_ylabel('Count')\n",
        "\n",
        "# Increase the size of the tick labels\n",
        "sns_plot.tick_params(axis='x')\n",
        "sns_plot.tick_params(axis='y')\n",
        "\n",
        "plt.xticks(rotation=90)\n",
        "plt.show()"
      ]
    },
    {
      "cell_type": "code",
      "execution_count": null,
      "id": "654f050c-2bde-404b-aa75-8d493b928349",
      "metadata": {
        "colab": {
          "base_uri": "https://localhost:8080/",
          "height": 632
        },
        "id": "654f050c-2bde-404b-aa75-8d493b928349",
        "outputId": "0d377dcc-ebd1-4e5d-95f1-9979d9a9c8cc"
      },
      "outputs": [
        {
          "output_type": "display_data",
          "data": {
            "text/plain": [
              "<Figure size 1200x800 with 1 Axes>"
            ],
            "image/png": "[encoded data removed]"
          },
          "metadata": {}
        }
      ],
      "source": [
        "counts=df['Category'].value_counts()\n",
        "labels=df['Category'].unique()\n",
        "plt.figure(figsize=(12,8))\n",
        "plt.pie(counts,labels=labels, autopct='%1.1f%%',startangle=60)\n",
        "plt.show()"
      ]
    },
    {
      "cell_type": "code",
      "execution_count": null,
      "id": "dad7e715-fc36-491b-867b-31b2c5fed68d",
      "metadata": {
        "colab": {
          "base_uri": "https://localhost:8080/"
        },
        "id": "dad7e715-fc36-491b-867b-31b2c5fed68d",
        "outputId": "b587bc42-2898-450a-8d38-b92fd8baba08"
      },
      "outputs": [
        {
          "output_type": "execute_result",
          "data": {
            "text/plain": [
              "Index(['Category', 'Resume'], dtype='object')"
            ]
          },
          "metadata": {},
          "execution_count": 13
        }
      ],
      "source": [
        "df.columns"
      ]
    },
    {
      "cell_type": "code",
      "execution_count": null,
      "id": "62d7f66c-ce08-480e-a195-ffb705598333",
      "metadata": {
        "colab": {
          "base_uri": "https://localhost:8080/",
          "height": 191
        },
        "id": "62d7f66c-ce08-480e-a195-ffb705598333",
        "outputId": "f9ec991f-8456-4c86-f440-2ba6aa3ef209"
      },
      "outputs": [
        {
          "output_type": "execute_result",
          "data": {
            "text/plain": [
              "'Areas of Interest Deep Learning, Control System Design, Programming in-Python, Electric Machinery, Web Development, Analytics Technical Activities q Hindustan Aeronautics Limited, Bangalore - For 4 weeks under the guidance of Mr. Satish, Senior Engineer in the hangar of Mirage 2000 fighter aircraft Technical Skills Programming Matlab, Python and Java, LabView, Python WebFrameWork-Django, Flask, LTSPICE-intermediate Languages and and MIPOWER-intermediate, Github (GitBash), Jupyter Notebook, Xampp, MySQL-Basics, Python Software Packages Interpreters-Anaconda, Python2, Python3, Pycharm, Java IDE-Eclipse Operating Systems Windows, Ubuntu, Debian-Kali Linux Education Details \\nJanuary 2019 B.Tech. Electrical and Electronics Engineering  Manipal Institute of Technology\\nJanuary 2015    DEEKSHA CENTER\\nJanuary 2013    Little Flower Public School\\nAugust 2000    Manipal Academy of Higher\\nDATA SCIENCE \\n\\nDATA SCIENCE AND ELECTRICAL ENTHUSIAST\\nSkill Details \\nData Analysis- Exprience - Less than 1 year months\\nexcel- Exprience - Less than 1 year months\\nMachine Learning- Exprience - Less than 1 year months\\nmathematics- Exprience - Less than 1 year months\\nPython- Exprience - Less than 1 year months\\nMatlab- Exprience - Less than 1 year months\\nElectrical Engineering- Exprience - Less than 1 year months\\nSql- Exprience - Less than 1 year monthsCompany Details \\ncompany - THEMATHCOMPANY\\ndescription - I am currently working with a Casino based operator(name not to be disclosed) in Macau.I need to segment the customers who visit their property based on the value the patrons bring into the company.Basically prove that the segmentation can be done in much better way than the current system which they have with proper numbers to back it up.Henceforth they can implement target marketing strategy to attract their customers who add value to the business.'"
            ],
            "application/vnd.google.colaboratory.intrinsic+json": {
              "type": "string"
            }
          },
          "metadata": {},
          "execution_count": 14
        }
      ],
      "source": [
        "df['Resume'][2]"
      ]
    },
    {
      "cell_type": "code",
      "source": [
        "import nltk\n",
        "nltk.download(\"stopwords\")"
      ],
      "metadata": {
        "colab": {
          "base_uri": "https://localhost:8080/"
        },
        "id": "p078KcHoeCTi",
        "outputId": "4c4cb080-0956-471c-aae8-bb1f8f6918b2"
      },
      "id": "p078KcHoeCTi",
      "execution_count": null,
      "outputs": [
        {
          "output_type": "stream",
          "name": "stderr",
          "text": [
            "[nltk_data] Downloading package stopwords to /root/nltk_data...\n",
            "[nltk_data]   Unzipping corpora/stopwords.zip.\n"
          ]
        },
        {
          "output_type": "execute_result",
          "data": {
            "text/plain": [
              "True"
            ]
          },
          "metadata": {},
          "execution_count": 15
        }
      ]
    },
    {
      "cell_type": "code",
      "execution_count": null,
      "id": "d957c2ae-545d-4325-8e8d-0f9d88b74d41",
      "metadata": {
        "colab": {
          "base_uri": "https://localhost:8080/"
        },
        "id": "d957c2ae-545d-4325-8e8d-0f9d88b74d41",
        "outputId": "59a9ceef-339f-4bed-9dc3-a5a23f714d77"
      },
      "outputs": [
        {
          "output_type": "stream",
          "name": "stdout",
          "text": [
            "sample resume stopwords special characters\n"
          ]
        }
      ],
      "source": [
        "import re\n",
        "import string\n",
        "from nltk.corpus import stopwords  # Import stopwords from NLTK\n",
        "\n",
        "def preprocessing(text):\n",
        "  \"\"\"\n",
        "  This function cleans a resume text by removing stopwords and special characters.\n",
        "\n",
        "  Args:\n",
        "      text: The text of the resume document.\n",
        "\n",
        "  Returns:\n",
        "      A string containing the cleaned resume text.\n",
        "  \"\"\"\n",
        "  # Lowercase the text\n",
        "  text = text.lower()\n",
        "\n",
        "  # Remove punctuation\n",
        "  text = text.translate(str.maketrans('', '', string.punctuation))\n",
        "\n",
        "  # Remove stopwords (using NLTK stopwords for English)\n",
        "  stop_words = stopwords.words('english')\n",
        "  text = ' '.join([word for word in text.split() if word not in stop_words])\n",
        "\n",
        "  # Remove extra whitespace\n",
        "  text = ' '.join(text.split())\n",
        "\n",
        "  return text\n",
        "\n",
        "# Example usage\n",
        "resume_text = \"This is a sample resume with stopwords and special characters!@#$%^\"\n",
        "cleaned_text = preprocessing(resume_text)\n",
        "print(cleaned_text)"
      ]
    },
    {
      "cell_type": "code",
      "execution_count": null,
      "id": "b154ea26-0e4e-4e25-82b5-b24e9aaef689",
      "metadata": {
        "id": "b154ea26-0e4e-4e25-82b5-b24e9aaef689"
      },
      "outputs": [],
      "source": [
        "import re\n",
        "def clean_resume(txt):\n",
        "    txt=preprocessing(txt)\n",
        "    cleanText = re.sub('http\\S+\\s', ' ', txt)\n",
        "    cleanText = re.sub('RT|cc', ' ', cleanText)\n",
        "    cleanText = re.sub('#\\S+\\s', ' ', cleanText)\n",
        "    cleanText = re.sub('@\\S+', '  ', cleanText)\n",
        "    cleanText = re.sub('[%s]' % re.escape(\"\"\"!\"#$%&'()*+,-./:;<=>?@[\\]^_`{|}~\"\"\"), ' ', cleanText)\n",
        "    cleanText = re.sub(r'[^\\x00-\\x7f]', ' ', cleanText)\n",
        "    cleanText = re.sub('\\s+', ' ', cleanText)\n",
        "    return cleanText"
      ]
    },
    {
      "cell_type": "code",
      "execution_count": null,
      "id": "738818bc-e9ef-4241-a7f0-5a2e34599ea7",
      "metadata": {
        "colab": {
          "base_uri": "https://localhost:8080/",
          "height": 458
        },
        "id": "738818bc-e9ef-4241-a7f0-5a2e34599ea7",
        "outputId": "931f1ea2-15eb-430c-d331-909507e077ef"
      },
      "outputs": [
        {
          "output_type": "execute_result",
          "data": {
            "text/plain": [
              "0      skills programming languages python pandas num...\n",
              "1      education details may 2013 may 2017 uitrgpv da...\n",
              "2      areas interest deep learning control system de...\n",
              "3      skills r python sap hana tableau sap hana sql ...\n",
              "4      education details mca ymcaust faridabad haryan...\n",
              "                             ...                        \n",
              "957    computer skills proficient ms office word basi...\n",
              "958     willingness a ept challenges positive thinkin...\n",
              "959    personal skills quick learner eagerness learn ...\n",
              "960    computer skills software knowledge mspower poi...\n",
              "961    skill set os windows xp788110 database mysql s...\n",
              "Name: Resume, Length: 962, dtype: object"
            ],
            "text/html": [
              "<div>\n",
              "<style scoped>\n",
              "    .dataframe tbody tr th:only-of-type {\n",
              "        vertical-align: middle;\n",
              "    }\n",
              "\n",
              "    .dataframe tbody tr th {\n",
              "        vertical-align: top;\n",
              "    }\n",
              "\n",
              "    .dataframe thead th {\n",
              "        text-align: right;\n",
              "    }\n",
              "</style>\n",
              "<table border=\"1\" class=\"dataframe\">\n",
              "  <thead>\n",
              "    <tr style=\"text-align: right;\">\n",
              "      <th></th>\n",
              "      <th>Resume</th>\n",
              "    </tr>\n",
              "  </thead>\n",
              "  <tbody>\n",
              "    <tr>\n",
              "      <th>0</th>\n",
              "      <td>skills programming languages python pandas num...</td>\n",
              "    </tr>\n",
              "    <tr>\n",
              "      <th>1</th>\n",
              "      <td>education details may 2013 may 2017 uitrgpv da...</td>\n",
              "    </tr>\n",
              "    <tr>\n",
              "      <th>2</th>\n",
              "      <td>areas interest deep learning control system de...</td>\n",
              "    </tr>\n",
              "    <tr>\n",
              "      <th>3</th>\n",
              "      <td>skills r python sap hana tableau sap hana sql ...</td>\n",
              "    </tr>\n",
              "    <tr>\n",
              "      <th>4</th>\n",
              "      <td>education details mca ymcaust faridabad haryan...</td>\n",
              "    </tr>\n",
              "    <tr>\n",
              "      <th>...</th>\n",
              "      <td>...</td>\n",
              "    </tr>\n",
              "    <tr>\n",
              "      <th>957</th>\n",
              "      <td>computer skills proficient ms office word basi...</td>\n",
              "    </tr>\n",
              "    <tr>\n",
              "      <th>958</th>\n",
              "      <td>willingness a ept challenges positive thinkin...</td>\n",
              "    </tr>\n",
              "    <tr>\n",
              "      <th>959</th>\n",
              "      <td>personal skills quick learner eagerness learn ...</td>\n",
              "    </tr>\n",
              "    <tr>\n",
              "      <th>960</th>\n",
              "      <td>computer skills software knowledge mspower poi...</td>\n",
              "    </tr>\n",
              "    <tr>\n",
              "      <th>961</th>\n",
              "      <td>skill set os windows xp788110 database mysql s...</td>\n",
              "    </tr>\n",
              "  </tbody>\n",
              "</table>\n",
              "<p>962 rows × 1 columns</p>\n",
              "</div><br><label><b>dtype:</b> object</label>"
            ]
          },
          "metadata": {},
          "execution_count": 18
        }
      ],
      "source": [
        "df['Resume']=df['Resume'].apply(lambda x: clean_resume(x))\n",
        "df['Resume']"
      ]
    },
    {
      "cell_type": "code",
      "execution_count": null,
      "id": "61fa1f39-36c0-401d-afdb-a06bcb2dee1f",
      "metadata": {
        "id": "61fa1f39-36c0-401d-afdb-a06bcb2dee1f"
      },
      "outputs": [],
      "source": [
        "from sklearn.preprocessing import LabelEncoder\n",
        "le = LabelEncoder()"
      ]
    },
    {
      "cell_type": "code",
      "execution_count": null,
      "id": "afc1114b-70ba-46f2-a641-25b2dcc175be",
      "metadata": {
        "id": "afc1114b-70ba-46f2-a641-25b2dcc175be"
      },
      "outputs": [],
      "source": [
        "le.fit(df['Category'])\n",
        "df['Category']=le.transform(df['Category'])"
      ]
    },
    {
      "cell_type": "code",
      "execution_count": null,
      "id": "18db1bab-6888-4964-923c-5a6c690009b8",
      "metadata": {
        "colab": {
          "base_uri": "https://localhost:8080/"
        },
        "id": "18db1bab-6888-4964-923c-5a6c690009b8",
        "outputId": "05ca9075-8474-451d-a3af-ec07605efd50"
      },
      "outputs": [
        {
          "output_type": "execute_result",
          "data": {
            "text/plain": [
              "array([ 6, 12,  0,  1, 24, 16, 22, 14,  5, 15,  4, 21,  2, 11, 18, 20,  8,\n",
              "       17, 19,  7, 13, 10,  9,  3, 23])"
            ]
          },
          "metadata": {},
          "execution_count": 21
        }
      ],
      "source": [
        "df.Category.unique()"
      ]
    },
    {
      "cell_type": "code",
      "execution_count": null,
      "id": "eb82f264-0780-46e7-9d9c-f2d53dadffa4",
      "metadata": {
        "id": "eb82f264-0780-46e7-9d9c-f2d53dadffa4"
      },
      "outputs": [],
      "source": [
        "from sklearn.feature_extraction.text import TfidfVectorizer\n",
        "tfidf=TfidfVectorizer(stop_words='english')\n",
        "tfidf.fit(df['Resume'])\n",
        "required_text=tfidf.transform(df['Resume'])"
      ]
    },
    {
      "cell_type": "code",
      "execution_count": null,
      "id": "fa422e43-13c3-4023-a540-757e811f6ba8",
      "metadata": {
        "id": "fa422e43-13c3-4023-a540-757e811f6ba8"
      },
      "outputs": [],
      "source": [
        "from sklearn.model_selection import train_test_split\n",
        "X_train,X_test, y_train, y_test=train_test_split(required_text, df['Category'],test_size=0.3,random_state=30)"
      ]
    },
    {
      "cell_type": "code",
      "execution_count": null,
      "id": "f77c86f2-7d07-4c0b-abe6-daa88dc0d3df",
      "metadata": {
        "colab": {
          "base_uri": "https://localhost:8080/"
        },
        "id": "f77c86f2-7d07-4c0b-abe6-daa88dc0d3df",
        "outputId": "a941090e-635d-44a7-eac3-de4d36d40ab1"
      },
      "outputs": [
        {
          "output_type": "execute_result",
          "data": {
            "text/plain": [
              "(673, 7872)"
            ]
          },
          "metadata": {},
          "execution_count": 24
        }
      ],
      "source": [
        "X_train.shape"
      ]
    },
    {
      "cell_type": "code",
      "execution_count": null,
      "id": "2a83cfa0-99d2-444a-aa2b-e6e2d5924609",
      "metadata": {
        "colab": {
          "base_uri": "https://localhost:8080/"
        },
        "id": "2a83cfa0-99d2-444a-aa2b-e6e2d5924609",
        "outputId": "38b86ae2-7d25-429c-c33f-fc98218a4926"
      },
      "outputs": [
        {
          "output_type": "execute_result",
          "data": {
            "text/plain": [
              "(289, 7872)"
            ]
          },
          "metadata": {},
          "execution_count": 25
        }
      ],
      "source": [
        "X_test.shape"
      ]
    },
    {
      "cell_type": "code",
      "execution_count": null,
      "id": "b130b91b-d464-4d9e-8e56-202ecde545af",
      "metadata": {
        "colab": {
          "base_uri": "https://localhost:8080/"
        },
        "id": "b130b91b-d464-4d9e-8e56-202ecde545af",
        "outputId": "288c4a56-5a9c-411e-b085-020e25c5a87f"
      },
      "outputs": [
        {
          "output_type": "execute_result",
          "data": {
            "text/plain": [
              "0.9688581314878892"
            ]
          },
          "metadata": {},
          "execution_count": 26
        }
      ],
      "source": [
        "from sklearn.multiclass import OneVsRestClassifier\n",
        "from sklearn.neighbors import KNeighborsClassifier\n",
        "from sklearn.metrics import accuracy_score\n",
        "# KNN model with OneVsRest strategy\n",
        "clf=OneVsRestClassifier(KNeighborsClassifier())\n",
        "clf.fit(X_train,y_train)\n",
        "y_pred=clf.predict(X_test)\n",
        "score=accuracy_score(y_test,y_pred)\n",
        "score"
      ]
    },
    {
      "cell_type": "code",
      "execution_count": null,
      "id": "4d9744fb-c728-4710-ba82-242a69cdc4b4",
      "metadata": {
        "colab": {
          "base_uri": "https://localhost:8080/"
        },
        "id": "4d9744fb-c728-4710-ba82-242a69cdc4b4",
        "outputId": "770a0ccc-f3c6-4c5c-afc1-f3dd73ec40cb"
      },
      "outputs": [
        {
          "output_type": "execute_result",
          "data": {
            "text/plain": [
              "0.9688581314878892"
            ]
          },
          "metadata": {},
          "execution_count": 27
        }
      ],
      "source": [
        "# Logistic Regression model with OneVsRest strategy\n",
        "from sklearn.linear_model import LogisticRegression\n",
        "model = OneVsRestClassifier(LogisticRegression())\n",
        "model.fit(X_train,y_train)\n",
        "y_pred=clf.predict(X_test)\n",
        "score=accuracy_score(y_test,y_pred)\n",
        "score"
      ]
    },
    {
      "cell_type": "code",
      "execution_count": null,
      "id": "fcb39021-9f2a-46cd-a33a-f86dbfac65dd",
      "metadata": {
        "colab": {
          "base_uri": "https://localhost:8080/"
        },
        "id": "fcb39021-9f2a-46cd-a33a-f86dbfac65dd",
        "outputId": "705deb7f-c703-4f9f-bfe0-3207bdbdd357"
      },
      "outputs": [
        {
          "output_type": "execute_result",
          "data": {
            "text/plain": [
              "0.9688581314878892"
            ]
          },
          "metadata": {},
          "execution_count": 28
        }
      ],
      "source": [
        "model =LogisticRegression()\n",
        "model.fit(X_train,y_train)\n",
        "y_pred=clf.predict(X_test)\n",
        "score=accuracy_score(y_test,y_pred)\n",
        "score"
      ]
    },
    {
      "cell_type": "code",
      "execution_count": null,
      "id": "6d198a29-a634-448b-b7f8-8bb3cf48e97e",
      "metadata": {
        "colab": {
          "base_uri": "https://localhost:8080/"
        },
        "id": "6d198a29-a634-448b-b7f8-8bb3cf48e97e",
        "outputId": "747deb7c-c78d-496e-b426-013accaf50b8"
      },
      "outputs": [
        {
          "output_type": "stream",
          "name": "stdout",
          "text": [
            "Logistic Regression CV Accuracy:  0.9895964621337756\n",
            "KNN CV Accuracy:  0.9539966832504148\n"
          ]
        }
      ],
      "source": [
        "from sklearn.model_selection import cross_val_score\n",
        "\n",
        "# Logistic Regression cross-validation\n",
        "logreg_cv_scores = cross_val_score(model, X_train, y_train, cv=5)\n",
        "print(\"Logistic Regression CV Accuracy: \", logreg_cv_scores.mean())\n",
        "\n",
        "# KNN cross-validation\n",
        "knn_cv_scores = cross_val_score(clf, X_train, y_train, cv=5)\n",
        "print(\"KNN CV Accuracy: \", knn_cv_scores.mean())"
      ]
    },
    {
      "cell_type": "code",
      "execution_count": null,
      "id": "e8b8d5af-c8ee-4ee6-9639-7ef467ec3e4f",
      "metadata": {
        "colab": {
          "base_uri": "https://localhost:8080/"
        },
        "id": "e8b8d5af-c8ee-4ee6-9639-7ef467ec3e4f",
        "outputId": "5aa9cd85-ccdf-4fad-827f-8fb971fe220d"
      },
      "outputs": [
        {
          "output_type": "stream",
          "name": "stdout",
          "text": [
            "Logistic Regression - Train Accuracy: 1.0\n",
            "Logistic Regression - Test Accuracy: 0.9896193771626297\n",
            "Logistic Regression - Cross-validation Accuracy: 0.9895964621337756\n",
            "KNN - Train Accuracy: 0.9836552748885586\n",
            "KNN - Test Accuracy: 0.9688581314878892\n",
            "KNN - Cross-validation Accuracy: 0.9539966832504148\n"
          ]
        }
      ],
      "source": [
        "from sklearn.model_selection import cross_val_score\n",
        "\n",
        "# Cross-validation for Logistic Regression\n",
        "logreg_cv_scores = cross_val_score(model, X_train, y_train, cv=5)\n",
        "logreg_train_accuracy = model.score(X_train, y_train)\n",
        "logreg_test_accuracy = model.score(X_test, y_test)\n",
        "\n",
        "print(f\"Logistic Regression - Train Accuracy: {logreg_train_accuracy}\")\n",
        "print(f\"Logistic Regression - Test Accuracy: {logreg_test_accuracy}\")\n",
        "print(f\"Logistic Regression - Cross-validation Accuracy: {logreg_cv_scores.mean()}\")\n",
        "\n",
        "# Cross-validation for KNN\n",
        "knn_cv_scores = cross_val_score(clf, X_train, y_train, cv=5)\n",
        "knn_train_accuracy = clf.score(X_train, y_train)\n",
        "knn_test_accuracy = clf.score(X_test, y_test)\n",
        "\n",
        "print(f\"KNN - Train Accuracy: {knn_train_accuracy}\")\n",
        "print(f\"KNN - Test Accuracy: {knn_test_accuracy}\")\n",
        "print(f\"KNN - Cross-validation Accuracy: {knn_cv_scores.mean()}\")\n"
      ]
    },
    {
      "cell_type": "code",
      "execution_count": null,
      "id": "71f45e6d-74a6-436a-9a76-fb304112666c",
      "metadata": {
        "id": "71f45e6d-74a6-436a-9a76-fb304112666c"
      },
      "outputs": [],
      "source": [
        "import pickle\n",
        "pickle.dump(tfidf,open('tfidf.pkl','wb'))\n",
        "pickle.dump(model, open('clf.pkl', 'wb'))"
      ]
    },
    {
      "cell_type": "code",
      "execution_count": null,
      "id": "0ee1857f-7f3c-4f6c-a46c-550bb2b0b694",
      "metadata": {
        "id": "0ee1857f-7f3c-4f6c-a46c-550bb2b0b694"
      },
      "outputs": [],
      "source": [
        "myresume =''''Good grasping quality and skillful work Education Details March 2013 to\n",
        "March 2018 B A LL B Law Solapur Maharashtra Solapur University Advocate Skill Details\n",
        "Good knowledge of typing as well as many other activities Exprience Less than 1 year months\n",
        "Company Details company District and Session court of solapur description Forward thinking\n",
        "individual with refined interpersonal and multitasking skills Looking to join a progressive\n",
        "organization to provide assistance in Legal work company District and\n",
        "Session court of solapur description Provide legal assistance in legal work'''"
      ]
    },
    {
      "cell_type": "code",
      "execution_count": null,
      "id": "9f160ec0-5dbf-4056-b15a-f6b8b6a916ff",
      "metadata": {
        "colab": {
          "base_uri": "https://localhost:8080/"
        },
        "id": "9f160ec0-5dbf-4056-b15a-f6b8b6a916ff",
        "outputId": "bc24c834-ab2b-4875-d685-a7d6bf44f289"
      },
      "outputs": [
        {
          "output_type": "stream",
          "name": "stdout",
          "text": [
            "Predicted Category: Advocate\n",
            "0\n"
          ]
        }
      ],
      "source": [
        "# Load the trained classifier\n",
        "clf = pickle.load(open('clf.pkl', 'rb'))\n",
        "# Clean the input resume\n",
        "cleaned_resume = clean_resume(myresume)\n",
        "\n",
        "# Transform the cleaned resume using the trained TfidfVectorizer\n",
        "input_features = tfidf.transform([cleaned_resume])\n",
        "\n",
        "# Make the prediction using the loaded classifier\n",
        "prediction_id = clf.predict(input_features)[0]\n",
        "\n",
        "# Map category ID to category name\n",
        "category_mapping = {\n",
        "    15: \"Java Developer\",\n",
        "    23: \"Testing\",\n",
        "    8: \"DevOps Engineer\",\n",
        "    20: \"Python Developer\",\n",
        "    24: \"Web Designing\",\n",
        "    12: \"HR\",\n",
        "    13: \"Hadoop\",\n",
        "    3: \"Blockchain\",\n",
        "    10: \"ETL Developer\",\n",
        "    18: \"Operations Manager\",\n",
        "    6: \"Data Science\",\n",
        "    22: \"Sales\",\n",
        "    16: \"Mechanical Engineer\",\n",
        "    1: \"Arts\",\n",
        "    7: \"Database\",\n",
        "    11: \"Electrical Engineering\",\n",
        "    14: \"Health and fitness\",\n",
        "    19: \"PMO\",\n",
        "    4: \"Business Analyst\",\n",
        "    9: \"DotNet Developer\",\n",
        "    2: \"Automation Testing\",\n",
        "    17: \"Network Security Engineer\",\n",
        "    21: \"SAP Developer\",\n",
        "    5: \"Civil Engineer\",\n",
        "    0: \"Advocate\",\n",
        "}\n",
        "\n",
        "category_name = category_mapping.get(prediction_id, \"Unknown\")\n",
        "\n",
        "print(\"Predicted Category:\", category_name)\n",
        "print(prediction_id)"
      ]
    },
    {
      "cell_type": "code",
      "execution_count": null,
      "id": "ad333c23-5ff0-42c7-966a-10fa40893372",
      "metadata": {
        "id": "ad333c23-5ff0-42c7-966a-10fa40893372"
      },
      "outputs": [],
      "source": []
    }
  ],
  "metadata": {
    "kernelspec": {
      "display_name": "Python 3 (ipykernel)",
      "language": "python",
      "name": "python3"
    },
    "language_info": {
      "codemirror_mode": {
        "name": "ipython",
        "version": 3
      },
      "file_extension": ".py",
      "mimetype": "text/x-python",
      "name": "python",
      "nbconvert_exporter": "python",
      "pygments_lexer": "ipython3",
      "version": "3.11.7"
    },
    "colab": {
      "provenance": []
    }
  },
  "nbformat": 4,
  "nbformat_minor": 5
}